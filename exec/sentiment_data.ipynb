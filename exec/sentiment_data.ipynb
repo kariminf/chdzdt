{
 "cells": [
  {
   "cell_type": "code",
   "execution_count": 1,
   "metadata": {},
   "outputs": [],
   "source": [
    "import pandas as pd\n",
    "import numpy as np\n",
    "DTST = '~/Data/DZDT/test/sources/sentiment/twifil.csv'"
   ]
  },
  {
   "cell_type": "code",
   "execution_count": 3,
   "metadata": {},
   "outputs": [
    {
     "data": {
      "text/html": [
       "<div>\n",
       "<style scoped>\n",
       "    .dataframe tbody tr th:only-of-type {\n",
       "        vertical-align: middle;\n",
       "    }\n",
       "\n",
       "    .dataframe tbody tr th {\n",
       "        vertical-align: top;\n",
       "    }\n",
       "\n",
       "    .dataframe thead th {\n",
       "        text-align: right;\n",
       "    }\n",
       "</style>\n",
       "<table border=\"1\" class=\"dataframe\">\n",
       "  <thead>\n",
       "    <tr style=\"text-align: right;\">\n",
       "      <th></th>\n",
       "      <th>ID</th>\n",
       "      <th>Code</th>\n",
       "      <th>Post</th>\n",
       "      <th>lang</th>\n",
       "      <th>Created At</th>\n",
       "      <th>Followers Count</th>\n",
       "      <th>Profile Link Color</th>\n",
       "      <th>Geo Enabled</th>\n",
       "      <th>Screen Name</th>\n",
       "      <th>Name</th>\n",
       "      <th>Profile Lang</th>\n",
       "      <th>Polarity</th>\n",
       "      <th>Polarity Class</th>\n",
       "      <th>User Age</th>\n",
       "      <th>Emotion</th>\n",
       "      <th>Platform</th>\n",
       "    </tr>\n",
       "  </thead>\n",
       "  <tbody>\n",
       "    <tr>\n",
       "      <th>0</th>\n",
       "      <td>1</td>\n",
       "      <td>9.528348e+17</td>\n",
       "      <td>@gamehacker080 @WaellAmeer @Kempa2010 @omeralb...</td>\n",
       "      <td>ar</td>\n",
       "      <td>Mon Jan 15 09:28:13 +0000 2018</td>\n",
       "      <td>215</td>\n",
       "      <td>0084B4</td>\n",
       "      <td>1</td>\n",
       "      <td>JackoTyga</td>\n",
       "      <td>Amine Jacko</td>\n",
       "      <td>fr</td>\n",
       "      <td>3,43</td>\n",
       "      <td>Positive</td>\n",
       "      <td>26.0</td>\n",
       "      <td>NaN</td>\n",
       "      <td>Twitter</td>\n",
       "    </tr>\n",
       "    <tr>\n",
       "      <th>1</th>\n",
       "      <td>2</td>\n",
       "      <td>9.528348e+17</td>\n",
       "      <td>@arar12332095361 صل الله عليه و سلم</td>\n",
       "      <td>ar</td>\n",
       "      <td>Mon Jan 15 09:28:01 +0000 2018</td>\n",
       "      <td>1682</td>\n",
       "      <td>19CF86</td>\n",
       "      <td>1</td>\n",
       "      <td>aminoooo_amine</td>\n",
       "      <td>Amine Bourahla</td>\n",
       "      <td>fr</td>\n",
       "      <td>7,14</td>\n",
       "      <td>Positive</td>\n",
       "      <td>26.0</td>\n",
       "      <td>NaN</td>\n",
       "      <td>Twitter</td>\n",
       "    </tr>\n",
       "    <tr>\n",
       "      <th>2</th>\n",
       "      <td>3</td>\n",
       "      <td>9.528346e+17</td>\n",
       "      <td>@SRKFC1 @iamsrk @gaurikhan 💖💖💖💖💖💖 https://t.co...</td>\n",
       "      <td>und</td>\n",
       "      <td>Mon Jan 15 09:27:35 +0000 2018</td>\n",
       "      <td>114</td>\n",
       "      <td>1DA1F2</td>\n",
       "      <td>1</td>\n",
       "      <td>FoufaKiri</td>\n",
       "      <td>Foufa kiri</td>\n",
       "      <td>fr</td>\n",
       "      <td>3,33</td>\n",
       "      <td>Positive</td>\n",
       "      <td>NaN</td>\n",
       "      <td>NaN</td>\n",
       "      <td>Twitter</td>\n",
       "    </tr>\n",
       "    <tr>\n",
       "      <th>3</th>\n",
       "      <td>4</td>\n",
       "      <td>9.528346e+17</td>\n",
       "      <td>.@realDonaldTrump YOU did this you started it!...</td>\n",
       "      <td>en</td>\n",
       "      <td>Mon Jan 15 09:27:21 +0000 2018</td>\n",
       "      <td>5367</td>\n",
       "      <td>E81C4F</td>\n",
       "      <td>1</td>\n",
       "      <td>Spartanise</td>\n",
       "      <td>Spartanise</td>\n",
       "      <td>en</td>\n",
       "      <td>-6,29</td>\n",
       "      <td>Negative</td>\n",
       "      <td>NaN</td>\n",
       "      <td>NaN</td>\n",
       "      <td>Twitter</td>\n",
       "    </tr>\n",
       "    <tr>\n",
       "      <th>4</th>\n",
       "      <td>5</td>\n",
       "      <td>9.528341e+17</td>\n",
       "      <td>وقال: \" ... وعليهم *أَنْ يكونوا على يقظةٍ* مِن...</td>\n",
       "      <td>ar</td>\n",
       "      <td>Mon Jan 15 09:25:15 +0000 2018</td>\n",
       "      <td>135</td>\n",
       "      <td>1DA1F2</td>\n",
       "      <td>1</td>\n",
       "      <td>GhanayK</td>\n",
       "      <td>أبو العباس كريم</td>\n",
       "      <td>ar</td>\n",
       "      <td>-2,71</td>\n",
       "      <td>Negative</td>\n",
       "      <td>NaN</td>\n",
       "      <td>NaN</td>\n",
       "      <td>Twitter</td>\n",
       "    </tr>\n",
       "  </tbody>\n",
       "</table>\n",
       "</div>"
      ],
      "text/plain": [
       "   ID          Code                                               Post lang  \\\n",
       "0   1  9.528348e+17  @gamehacker080 @WaellAmeer @Kempa2010 @omeralb...   ar   \n",
       "1   2  9.528348e+17                @arar12332095361 صل الله عليه و سلم   ar   \n",
       "2   3  9.528346e+17  @SRKFC1 @iamsrk @gaurikhan 💖💖💖💖💖💖 https://t.co...  und   \n",
       "3   4  9.528346e+17  .@realDonaldTrump YOU did this you started it!...   en   \n",
       "4   5  9.528341e+17  وقال: \" ... وعليهم *أَنْ يكونوا على يقظةٍ* مِن...   ar   \n",
       "\n",
       "                       Created At  Followers Count Profile Link Color  \\\n",
       "0  Mon Jan 15 09:28:13 +0000 2018              215             0084B4   \n",
       "1  Mon Jan 15 09:28:01 +0000 2018             1682             19CF86   \n",
       "2  Mon Jan 15 09:27:35 +0000 2018              114             1DA1F2   \n",
       "3  Mon Jan 15 09:27:21 +0000 2018             5367             E81C4F   \n",
       "4  Mon Jan 15 09:25:15 +0000 2018              135             1DA1F2   \n",
       "\n",
       "   Geo Enabled     Screen Name             Name Profile Lang Polarity  \\\n",
       "0            1       JackoTyga      Amine Jacko           fr     3,43   \n",
       "1            1  aminoooo_amine   Amine Bourahla           fr     7,14   \n",
       "2            1       FoufaKiri       Foufa kiri           fr     3,33   \n",
       "3            1      Spartanise       Spartanise           en    -6,29   \n",
       "4            1         GhanayK  أبو العباس كريم           ar    -2,71   \n",
       "\n",
       "  Polarity Class  User Age Emotion Platform  \n",
       "0       Positive      26.0     NaN  Twitter  \n",
       "1       Positive      26.0     NaN  Twitter  \n",
       "2       Positive       NaN     NaN  Twitter  \n",
       "3       Negative       NaN     NaN  Twitter  \n",
       "4       Negative       NaN     NaN  Twitter  "
      ]
     },
     "execution_count": 3,
     "metadata": {},
     "output_type": "execute_result"
    }
   ],
   "source": [
    "data = pd.read_csv(DTST, sep=',')\n",
    "\n",
    "data.head()"
   ]
  },
  {
   "cell_type": "code",
   "execution_count": 4,
   "metadata": {},
   "outputs": [
    {
     "data": {
      "text/html": [
       "<div>\n",
       "<style scoped>\n",
       "    .dataframe tbody tr th:only-of-type {\n",
       "        vertical-align: middle;\n",
       "    }\n",
       "\n",
       "    .dataframe tbody tr th {\n",
       "        vertical-align: top;\n",
       "    }\n",
       "\n",
       "    .dataframe thead th {\n",
       "        text-align: right;\n",
       "    }\n",
       "</style>\n",
       "<table border=\"1\" class=\"dataframe\">\n",
       "  <thead>\n",
       "    <tr style=\"text-align: right;\">\n",
       "      <th></th>\n",
       "      <th>Post</th>\n",
       "      <th>Polarity Class</th>\n",
       "    </tr>\n",
       "  </thead>\n",
       "  <tbody>\n",
       "    <tr>\n",
       "      <th>0</th>\n",
       "      <td>@gamehacker080 @WaellAmeer @Kempa2010 @omeralb...</td>\n",
       "      <td>Positive</td>\n",
       "    </tr>\n",
       "    <tr>\n",
       "      <th>1</th>\n",
       "      <td>@arar12332095361 صل الله عليه و سلم</td>\n",
       "      <td>Positive</td>\n",
       "    </tr>\n",
       "    <tr>\n",
       "      <th>2</th>\n",
       "      <td>@SRKFC1 @iamsrk @gaurikhan 💖💖💖💖💖💖 https://t.co...</td>\n",
       "      <td>Positive</td>\n",
       "    </tr>\n",
       "    <tr>\n",
       "      <th>3</th>\n",
       "      <td>.@realDonaldTrump YOU did this you started it!...</td>\n",
       "      <td>Negative</td>\n",
       "    </tr>\n",
       "    <tr>\n",
       "      <th>4</th>\n",
       "      <td>وقال: \" ... وعليهم *أَنْ يكونوا على يقظةٍ* مِن...</td>\n",
       "      <td>Negative</td>\n",
       "    </tr>\n",
       "  </tbody>\n",
       "</table>\n",
       "</div>"
      ],
      "text/plain": [
       "                                                Post Polarity Class\n",
       "0  @gamehacker080 @WaellAmeer @Kempa2010 @omeralb...       Positive\n",
       "1                @arar12332095361 صل الله عليه و سلم       Positive\n",
       "2  @SRKFC1 @iamsrk @gaurikhan 💖💖💖💖💖💖 https://t.co...       Positive\n",
       "3  .@realDonaldTrump YOU did this you started it!...       Negative\n",
       "4  وقال: \" ... وعليهم *أَنْ يكونوا على يقظةٍ* مِن...       Negative"
      ]
     },
     "execution_count": 4,
     "metadata": {},
     "output_type": "execute_result"
    }
   ],
   "source": [
    "# delete all columns except Post and Polarity Class\n",
    "data = data[['Post', 'Polarity Class']]\n",
    "data.head()"
   ]
  },
  {
   "cell_type": "code",
   "execution_count": 5,
   "metadata": {},
   "outputs": [
    {
     "data": {
      "text/html": [
       "<div>\n",
       "<style scoped>\n",
       "    .dataframe tbody tr th:only-of-type {\n",
       "        vertical-align: middle;\n",
       "    }\n",
       "\n",
       "    .dataframe tbody tr th {\n",
       "        vertical-align: top;\n",
       "    }\n",
       "\n",
       "    .dataframe thead th {\n",
       "        text-align: right;\n",
       "    }\n",
       "</style>\n",
       "<table border=\"1\" class=\"dataframe\">\n",
       "  <thead>\n",
       "    <tr style=\"text-align: right;\">\n",
       "      <th></th>\n",
       "      <th>text</th>\n",
       "      <th>class</th>\n",
       "    </tr>\n",
       "  </thead>\n",
       "  <tbody>\n",
       "    <tr>\n",
       "      <th>0</th>\n",
       "      <td>@gamehacker080 @WaellAmeer @Kempa2010 @omeralb...</td>\n",
       "      <td>Positive</td>\n",
       "    </tr>\n",
       "    <tr>\n",
       "      <th>1</th>\n",
       "      <td>@arar12332095361 صل الله عليه و سلم</td>\n",
       "      <td>Positive</td>\n",
       "    </tr>\n",
       "    <tr>\n",
       "      <th>2</th>\n",
       "      <td>@SRKFC1 @iamsrk @gaurikhan 💖💖💖💖💖💖 https://t.co...</td>\n",
       "      <td>Positive</td>\n",
       "    </tr>\n",
       "    <tr>\n",
       "      <th>3</th>\n",
       "      <td>.@realDonaldTrump YOU did this you started it!...</td>\n",
       "      <td>Negative</td>\n",
       "    </tr>\n",
       "    <tr>\n",
       "      <th>4</th>\n",
       "      <td>وقال: \" ... وعليهم *أَنْ يكونوا على يقظةٍ* مِن...</td>\n",
       "      <td>Negative</td>\n",
       "    </tr>\n",
       "  </tbody>\n",
       "</table>\n",
       "</div>"
      ],
      "text/plain": [
       "                                                text     class\n",
       "0  @gamehacker080 @WaellAmeer @Kempa2010 @omeralb...  Positive\n",
       "1                @arar12332095361 صل الله عليه و سلم  Positive\n",
       "2  @SRKFC1 @iamsrk @gaurikhan 💖💖💖💖💖💖 https://t.co...  Positive\n",
       "3  .@realDonaldTrump YOU did this you started it!...  Negative\n",
       "4  وقال: \" ... وعليهم *أَنْ يكونوا على يقظةٍ* مِن...  Negative"
      ]
     },
     "execution_count": 5,
     "metadata": {},
     "output_type": "execute_result"
    }
   ],
   "source": [
    "# rename columns Post to text, Polarity Class to class\n",
    "data = data.rename(columns={'Post': 'text', 'Polarity Class': 'class'})\n",
    "data.head()"
   ]
  },
  {
   "cell_type": "code",
   "execution_count": 6,
   "metadata": {},
   "outputs": [
    {
     "data": {
      "text/plain": [
       "array(['Positive', 'Negative', 'Neutral'], dtype=object)"
      ]
     },
     "execution_count": 6,
     "metadata": {},
     "output_type": "execute_result"
    }
   ],
   "source": [
    "data['class'].unique()"
   ]
  },
  {
   "cell_type": "code",
   "execution_count": 7,
   "metadata": {},
   "outputs": [
    {
     "data": {
      "text/plain": [
       "0    Positive\n",
       "1    Positive\n",
       "2    Positive\n",
       "3    Negative\n",
       "4    Negative\n",
       "Name: class, dtype: object"
      ]
     },
     "execution_count": 7,
     "metadata": {},
     "output_type": "execute_result"
    }
   ],
   "source": [
    "X = data.iloc[:, 0]\n",
    "y = data.iloc[:, 1]\n",
    "\n",
    "y.head()"
   ]
  },
  {
   "cell_type": "code",
   "execution_count": 8,
   "metadata": {},
   "outputs": [],
   "source": [
    "from sklearn.model_selection import train_test_split\n",
    "\n",
    "# split to train, test with stratification\n",
    "X_train, X_test, y_train, y_test = train_test_split(X, y, test_size=0.4, stratify=y, random_state=42)"
   ]
  },
  {
   "cell_type": "code",
   "execution_count": null,
   "metadata": {},
   "outputs": [],
   "source": [
    "# reconstruct the dataset\n",
    "train_data = pd.DataFrame(X_train, columns=['text'])\n",
    "train_data = pd.concat([train_data, pd.DataFrame(y_train, columns=['class'])], axis=1)\n",
    "train_data.to_csv(DTST.replace(\".csv\", \"_train.csv\"), index=False, sep='\\t')"
   ]
  },
  {
   "cell_type": "code",
   "execution_count": 10,
   "metadata": {},
   "outputs": [],
   "source": [
    "train_data = pd.DataFrame(X_test, columns=['text'])\n",
    "train_data = pd.concat([train_data, pd.DataFrame(y_test, columns=['class'])], axis=1)\n",
    "train_data.to_csv(DTST.replace(\".csv\", \"_test.csv\"), index=False, sep='\\t')"
   ]
  }
 ],
 "metadata": {
  "kernelspec": {
   "display_name": "ml",
   "language": "python",
   "name": "python3"
  },
  "language_info": {
   "codemirror_mode": {
    "name": "ipython",
    "version": 3
   },
   "file_extension": ".py",
   "mimetype": "text/x-python",
   "name": "python",
   "nbconvert_exporter": "python",
   "pygments_lexer": "ipython3",
   "version": "3.10.0"
  }
 },
 "nbformat": 4,
 "nbformat_minor": 2
}
